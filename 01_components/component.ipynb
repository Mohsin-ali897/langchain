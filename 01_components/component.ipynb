{
 "cells": [
  {
   "cell_type": "markdown",
   "metadata": {},
   "source": [
    "# **Langchain**\n",
    "LangChain is an open-source framework designed to help developers build applications powered by large language models (LLMs) like OpenAI’s GPT-4. It provides tools and integrations for working with LLMs in various ways, including:\n",
    "\n",
    "- **Data-aware applications**: Connecting LLMs to external data sources such as databases, APIs, or documents.\n",
    "- **Agent-based applications**: Creating AI agents that can make decisions, call external tools, and interact dynamically.\n",
    "- **Memory and persistence**: Allowing LLMs to retain context across interactions.\n",
    "- **Retrieval-Augmented Generation (RAG)**: Enhancing model responses by fetching relevant documents before generating answers.\n",
    "- **Integration with frameworks**: Supporting platforms like OpenAI, Hugging Face, Google Vertex AI, and more.\n",
    "\n",
    "LangChain is widely used for chatbots, document processing, and AI-powered automation. It supports multiple programming languages, but it is primarily used with Python and JavaScript (Node.js).\n",
    "\n"
   ]
  },
  {
   "cell_type": "markdown",
   "metadata": {},
   "source": [
    "# **Components in Langchain**\n",
    "there are six main **component** in langchain\n",
    "1. Model\n",
    "2. Indexes\n",
    "3. Memory\n",
    "4. Agent\n",
    "5. Chain\n",
    "6. Prompt"
   ]
  },
  {
   "cell_type": "markdown",
   "metadata": {},
   "source": [
    "## **Model**\n",
    "In LangChain, models are a fundamental component used to generate responses, process inputs, and interact with AI-powered applications. LangChain provides various LLMs (Large Language Models) and Chat Models to facilitate text generation and AI interactions.\n",
    "### **1. Types of Models in LangChain**\n",
    "LangChain supports multiple types of models, including:\n",
    "##### **A. Large Language Models (LLMs)**\n",
    "- Used for text generation (GPT-like models).\n",
    "- Can be integrated with OpenAI, Hugging Face, Google, etc..\n",
    "##### **B. Chat Models**\n",
    "- Designed for conversational AI.\n",
    "- Returns structured responses instead of plain text.\n",
    "##### **C. Embedding Models**\n",
    "- Convert text into vector representations.\n",
    "- Used for search, similarity comparisons, and retrieval-augmented generation (RAG).\n",
    "##### **D. Multi-modal Models**\n",
    "- Handle both text and images.\n",
    "- Used in AI agents and vision-based applications."
   ]
  }
 ],
 "metadata": {
  "language_info": {
   "name": "python"
  }
 },
 "nbformat": 4,
 "nbformat_minor": 2
}
